{
 "cells": [
  {
   "cell_type": "markdown",
   "id": "43320940-7c64-48cb-812e-5dbd0135cf34",
   "metadata": {},
   "source": [
    "# What is Retrieval Augmented Generation (RAG)?"
   ]
  },
  {
   "cell_type": "markdown",
   "id": "528c4651-5fdb-46c1-92b8-77253e6f0889",
   "metadata": {},
   "source": [
    "- RAG combines general language understanding of a Large Language Model to specific sets of information that are not included in its training data.\n",
    "\n",
    "- RAG is useful for enhancing the accuracy and reliability of generative AI models by giving the model information that it should base its answers on.\n",
    "- While general Large language models (LLMs) are useful for responding to general prompts quickly, they might not be useful for those who want specific answers.\n",
    "\n",
    "In simple terms, RAG works like this:\n",
    "- First, it searches through a vast amount of existing text data to find relevant information related to a specific question or topic.\n",
    "- Then, it uses this retrieved information to generate new text or responses that are contextually relevant and coherent."
   ]
  },
  {
   "cell_type": "markdown",
   "id": "d4e92151-ad41-4de8-95bc-45a61801039c",
   "metadata": {},
   "source": [
    "# Install packages"
   ]
  },
  {
   "cell_type": "code",
   "execution_count": 1,
   "id": "5bd7b7fc-7a77-43fa-83db-95519f87eb5a",
   "metadata": {},
   "outputs": [
    {
     "name": "stdout",
     "output_type": "stream",
     "text": [
      "Collecting transformers\n",
      "  Using cached transformers-4.37.2-py3-none-any.whl.metadata (129 kB)\n",
      "Collecting filelock (from transformers)\n",
      "  Using cached filelock-3.13.1-py3-none-any.whl.metadata (2.8 kB)\n",
      "Collecting huggingface-hub<1.0,>=0.19.3 (from transformers)\n",
      "  Using cached huggingface_hub-0.20.3-py3-none-any.whl.metadata (12 kB)\n",
      "Requirement already satisfied: numpy>=1.17 in /opt/conda/lib/python3.11/site-packages (from transformers) (1.24.4)\n",
      "Requirement already satisfied: packaging>=20.0 in /opt/conda/lib/python3.11/site-packages (from transformers) (23.2)\n",
      "Requirement already satisfied: pyyaml>=5.1 in /opt/conda/lib/python3.11/site-packages (from transformers) (6.0.1)\n",
      "Collecting regex!=2019.12.17 (from transformers)\n",
      "  Using cached regex-2023.12.25-cp311-cp311-manylinux_2_17_x86_64.manylinux2014_x86_64.whl.metadata (40 kB)\n",
      "Requirement already satisfied: requests in /opt/conda/lib/python3.11/site-packages (from transformers) (2.31.0)\n",
      "Collecting tokenizers<0.19,>=0.14 (from transformers)\n",
      "  Using cached tokenizers-0.15.1-cp311-cp311-manylinux_2_17_x86_64.manylinux2014_x86_64.whl.metadata (6.7 kB)\n",
      "Collecting safetensors>=0.4.1 (from transformers)\n",
      "  Using cached safetensors-0.4.2-cp311-cp311-manylinux_2_17_x86_64.manylinux2014_x86_64.whl.metadata (3.8 kB)\n",
      "Requirement already satisfied: tqdm>=4.27 in /opt/conda/lib/python3.11/site-packages (from transformers) (4.66.1)\n",
      "Requirement already satisfied: fsspec>=2023.5.0 in /opt/conda/lib/python3.11/site-packages (from huggingface-hub<1.0,>=0.19.3->transformers) (2023.9.2)\n",
      "Requirement already satisfied: typing-extensions>=3.7.4.3 in /opt/conda/lib/python3.11/site-packages (from huggingface-hub<1.0,>=0.19.3->transformers) (4.8.0)\n",
      "Requirement already satisfied: charset-normalizer<4,>=2 in /opt/conda/lib/python3.11/site-packages (from requests->transformers) (3.3.0)\n",
      "Requirement already satisfied: idna<4,>=2.5 in /opt/conda/lib/python3.11/site-packages (from requests->transformers) (3.4)\n",
      "Requirement already satisfied: urllib3<3,>=1.21.1 in /opt/conda/lib/python3.11/site-packages (from requests->transformers) (2.0.7)\n",
      "Requirement already satisfied: certifi>=2017.4.17 in /opt/conda/lib/python3.11/site-packages (from requests->transformers) (2024.2.2)\n",
      "Using cached transformers-4.37.2-py3-none-any.whl (8.4 MB)\n",
      "Using cached huggingface_hub-0.20.3-py3-none-any.whl (330 kB)\n",
      "Using cached regex-2023.12.25-cp311-cp311-manylinux_2_17_x86_64.manylinux2014_x86_64.whl (785 kB)\n",
      "Using cached safetensors-0.4.2-cp311-cp311-manylinux_2_17_x86_64.manylinux2014_x86_64.whl (1.3 MB)\n",
      "Using cached tokenizers-0.15.1-cp311-cp311-manylinux_2_17_x86_64.manylinux2014_x86_64.whl (3.6 MB)\n",
      "Using cached filelock-3.13.1-py3-none-any.whl (11 kB)\n",
      "Installing collected packages: safetensors, regex, filelock, huggingface-hub, tokenizers, transformers\n",
      "Successfully installed filelock-3.13.1 huggingface-hub-0.20.3 regex-2023.12.25 safetensors-0.4.2 tokenizers-0.15.1 transformers-4.37.2\n",
      "Collecting torch\n",
      "  Using cached torch-2.2.0-cp311-cp311-manylinux1_x86_64.whl.metadata (25 kB)\n",
      "Requirement already satisfied: filelock in /opt/conda/lib/python3.11/site-packages (from torch) (3.13.1)\n",
      "Requirement already satisfied: typing-extensions>=4.8.0 in /opt/conda/lib/python3.11/site-packages (from torch) (4.8.0)\n",
      "Requirement already satisfied: sympy in /opt/conda/lib/python3.11/site-packages (from torch) (1.12)\n",
      "Requirement already satisfied: networkx in /opt/conda/lib/python3.11/site-packages (from torch) (3.2)\n",
      "Requirement already satisfied: jinja2 in /opt/conda/lib/python3.11/site-packages (from torch) (3.1.2)\n",
      "Requirement already satisfied: fsspec in /opt/conda/lib/python3.11/site-packages (from torch) (2023.9.2)\n",
      "Collecting nvidia-cuda-nvrtc-cu12==12.1.105 (from torch)\n",
      "  Using cached nvidia_cuda_nvrtc_cu12-12.1.105-py3-none-manylinux1_x86_64.whl (23.7 MB)\n",
      "Collecting nvidia-cuda-runtime-cu12==12.1.105 (from torch)\n",
      "  Using cached nvidia_cuda_runtime_cu12-12.1.105-py3-none-manylinux1_x86_64.whl (823 kB)\n",
      "Collecting nvidia-cuda-cupti-cu12==12.1.105 (from torch)\n",
      "  Using cached nvidia_cuda_cupti_cu12-12.1.105-py3-none-manylinux1_x86_64.whl (14.1 MB)\n",
      "Collecting nvidia-cudnn-cu12==8.9.2.26 (from torch)\n",
      "  Using cached nvidia_cudnn_cu12-8.9.2.26-py3-none-manylinux1_x86_64.whl.metadata (1.6 kB)\n",
      "Collecting nvidia-cublas-cu12==12.1.3.1 (from torch)\n",
      "  Using cached nvidia_cublas_cu12-12.1.3.1-py3-none-manylinux1_x86_64.whl (410.6 MB)\n",
      "Collecting nvidia-cufft-cu12==11.0.2.54 (from torch)\n",
      "  Using cached nvidia_cufft_cu12-11.0.2.54-py3-none-manylinux1_x86_64.whl (121.6 MB)\n",
      "Collecting nvidia-curand-cu12==10.3.2.106 (from torch)\n",
      "  Using cached nvidia_curand_cu12-10.3.2.106-py3-none-manylinux1_x86_64.whl (56.5 MB)\n",
      "Collecting nvidia-cusolver-cu12==11.4.5.107 (from torch)\n",
      "  Using cached nvidia_cusolver_cu12-11.4.5.107-py3-none-manylinux1_x86_64.whl (124.2 MB)\n",
      "Collecting nvidia-cusparse-cu12==12.1.0.106 (from torch)\n",
      "  Using cached nvidia_cusparse_cu12-12.1.0.106-py3-none-manylinux1_x86_64.whl (196.0 MB)\n",
      "Collecting nvidia-nccl-cu12==2.19.3 (from torch)\n",
      "  Using cached nvidia_nccl_cu12-2.19.3-py3-none-manylinux1_x86_64.whl.metadata (1.8 kB)\n",
      "Collecting nvidia-nvtx-cu12==12.1.105 (from torch)\n",
      "  Using cached nvidia_nvtx_cu12-12.1.105-py3-none-manylinux1_x86_64.whl (99 kB)\n",
      "Collecting triton==2.2.0 (from torch)\n",
      "  Using cached triton-2.2.0-cp311-cp311-manylinux_2_17_x86_64.manylinux2014_x86_64.whl.metadata (1.4 kB)\n",
      "Collecting nvidia-nvjitlink-cu12 (from nvidia-cusolver-cu12==11.4.5.107->torch)\n",
      "  Using cached nvidia_nvjitlink_cu12-12.3.101-py3-none-manylinux1_x86_64.whl.metadata (1.5 kB)\n",
      "Requirement already satisfied: MarkupSafe>=2.0 in /opt/conda/lib/python3.11/site-packages (from jinja2->torch) (2.1.3)\n",
      "Requirement already satisfied: mpmath>=0.19 in /opt/conda/lib/python3.11/site-packages (from sympy->torch) (1.3.0)\n",
      "Using cached torch-2.2.0-cp311-cp311-manylinux1_x86_64.whl (755.5 MB)\n",
      "Using cached nvidia_cudnn_cu12-8.9.2.26-py3-none-manylinux1_x86_64.whl (731.7 MB)\n",
      "Using cached nvidia_nccl_cu12-2.19.3-py3-none-manylinux1_x86_64.whl (166.0 MB)\n",
      "Using cached triton-2.2.0-cp311-cp311-manylinux_2_17_x86_64.manylinux2014_x86_64.whl (167.9 MB)\n",
      "Using cached nvidia_nvjitlink_cu12-12.3.101-py3-none-manylinux1_x86_64.whl (20.5 MB)\n",
      "Installing collected packages: triton, nvidia-nvtx-cu12, nvidia-nvjitlink-cu12, nvidia-nccl-cu12, nvidia-curand-cu12, nvidia-cufft-cu12, nvidia-cuda-runtime-cu12, nvidia-cuda-nvrtc-cu12, nvidia-cuda-cupti-cu12, nvidia-cublas-cu12, nvidia-cusparse-cu12, nvidia-cudnn-cu12, nvidia-cusolver-cu12, torch\n",
      "Successfully installed nvidia-cublas-cu12-12.1.3.1 nvidia-cuda-cupti-cu12-12.1.105 nvidia-cuda-nvrtc-cu12-12.1.105 nvidia-cuda-runtime-cu12-12.1.105 nvidia-cudnn-cu12-8.9.2.26 nvidia-cufft-cu12-11.0.2.54 nvidia-curand-cu12-10.3.2.106 nvidia-cusolver-cu12-11.4.5.107 nvidia-cusparse-cu12-12.1.0.106 nvidia-nccl-cu12-2.19.3 nvidia-nvjitlink-cu12-12.3.101 nvidia-nvtx-cu12-12.1.105 torch-2.2.0 triton-2.2.0\n",
      "Collecting llama-index\n",
      "  Downloading llama_index-0.9.46-py3-none-any.whl.metadata (8.4 kB)\n",
      "Requirement already satisfied: SQLAlchemy>=1.4.49 in /opt/conda/lib/python3.11/site-packages (from SQLAlchemy[asyncio]>=1.4.49->llama-index) (2.0.22)\n",
      "Collecting aiohttp<4.0.0,>=3.8.6 (from llama-index)\n",
      "  Using cached aiohttp-3.9.3-cp311-cp311-manylinux_2_17_x86_64.manylinux2014_x86_64.whl.metadata (7.4 kB)\n",
      "Collecting dataclasses-json (from llama-index)\n",
      "  Using cached dataclasses_json-0.6.4-py3-none-any.whl.metadata (25 kB)\n",
      "Collecting deprecated>=1.2.9.3 (from llama-index)\n",
      "  Using cached Deprecated-1.2.14-py2.py3-none-any.whl.metadata (5.4 kB)\n",
      "Collecting dirtyjson<2.0.0,>=1.0.8 (from llama-index)\n",
      "  Using cached dirtyjson-1.0.8-py3-none-any.whl (25 kB)\n",
      "Requirement already satisfied: fsspec>=2023.5.0 in /opt/conda/lib/python3.11/site-packages (from llama-index) (2023.9.2)\n",
      "Collecting httpx (from llama-index)\n",
      "  Using cached httpx-0.26.0-py3-none-any.whl.metadata (7.6 kB)\n",
      "Requirement already satisfied: nest-asyncio<2.0.0,>=1.5.8 in /opt/conda/lib/python3.11/site-packages (from llama-index) (1.5.8)\n",
      "Requirement already satisfied: networkx>=3.0 in /opt/conda/lib/python3.11/site-packages (from llama-index) (3.2)\n",
      "Collecting nltk<4.0.0,>=3.8.1 (from llama-index)\n",
      "  Using cached nltk-3.8.1-py3-none-any.whl (1.5 MB)\n",
      "Requirement already satisfied: numpy in /opt/conda/lib/python3.11/site-packages (from llama-index) (1.24.4)\n",
      "Collecting openai>=1.1.0 (from llama-index)\n",
      "  Downloading openai-1.12.0-py3-none-any.whl.metadata (18 kB)\n",
      "Requirement already satisfied: pandas in /opt/conda/lib/python3.11/site-packages (from llama-index) (2.0.3)\n",
      "Requirement already satisfied: requests>=2.31.0 in /opt/conda/lib/python3.11/site-packages (from llama-index) (2.31.0)\n",
      "Collecting tenacity<9.0.0,>=8.2.0 (from llama-index)\n",
      "  Using cached tenacity-8.2.3-py3-none-any.whl.metadata (1.0 kB)\n",
      "Collecting tiktoken>=0.3.3 (from llama-index)\n",
      "  Downloading tiktoken-0.6.0-cp311-cp311-manylinux_2_17_x86_64.manylinux2014_x86_64.whl.metadata (6.6 kB)\n",
      "Requirement already satisfied: typing-extensions>=4.5.0 in /opt/conda/lib/python3.11/site-packages (from llama-index) (4.8.0)\n",
      "Collecting typing-inspect>=0.8.0 (from llama-index)\n",
      "  Using cached typing_inspect-0.9.0-py3-none-any.whl.metadata (1.5 kB)\n",
      "Collecting aiosignal>=1.1.2 (from aiohttp<4.0.0,>=3.8.6->llama-index)\n",
      "  Using cached aiosignal-1.3.1-py3-none-any.whl (7.6 kB)\n",
      "Requirement already satisfied: attrs>=17.3.0 in /opt/conda/lib/python3.11/site-packages (from aiohttp<4.0.0,>=3.8.6->llama-index) (23.1.0)\n",
      "Collecting frozenlist>=1.1.1 (from aiohttp<4.0.0,>=3.8.6->llama-index)\n",
      "  Using cached frozenlist-1.4.1-cp311-cp311-manylinux_2_5_x86_64.manylinux1_x86_64.manylinux_2_17_x86_64.manylinux2014_x86_64.whl.metadata (12 kB)\n",
      "Collecting multidict<7.0,>=4.5 (from aiohttp<4.0.0,>=3.8.6->llama-index)\n",
      "  Using cached multidict-6.0.5-cp311-cp311-manylinux_2_17_x86_64.manylinux2014_x86_64.whl.metadata (4.2 kB)\n",
      "Collecting yarl<2.0,>=1.0 (from aiohttp<4.0.0,>=3.8.6->llama-index)\n",
      "  Using cached yarl-1.9.4-cp311-cp311-manylinux_2_17_x86_64.manylinux2014_x86_64.whl.metadata (31 kB)\n",
      "Requirement already satisfied: wrapt<2,>=1.10 in /opt/conda/lib/python3.11/site-packages (from deprecated>=1.2.9.3->llama-index) (1.14.1)\n",
      "Requirement already satisfied: click in /opt/conda/lib/python3.11/site-packages (from nltk<4.0.0,>=3.8.1->llama-index) (8.1.7)\n",
      "Requirement already satisfied: joblib in /opt/conda/lib/python3.11/site-packages (from nltk<4.0.0,>=3.8.1->llama-index) (1.3.2)\n",
      "Requirement already satisfied: regex>=2021.8.3 in /opt/conda/lib/python3.11/site-packages (from nltk<4.0.0,>=3.8.1->llama-index) (2023.12.25)\n",
      "Requirement already satisfied: tqdm in /opt/conda/lib/python3.11/site-packages (from nltk<4.0.0,>=3.8.1->llama-index) (4.66.1)\n",
      "Requirement already satisfied: anyio<5,>=3.5.0 in /opt/conda/lib/python3.11/site-packages (from openai>=1.1.0->llama-index) (4.0.0)\n",
      "Collecting distro<2,>=1.7.0 (from openai>=1.1.0->llama-index)\n",
      "  Using cached distro-1.9.0-py3-none-any.whl.metadata (6.8 kB)\n",
      "Collecting pydantic<3,>=1.9.0 (from openai>=1.1.0->llama-index)\n",
      "  Using cached pydantic-2.6.1-py3-none-any.whl.metadata (83 kB)\n",
      "Requirement already satisfied: sniffio in /opt/conda/lib/python3.11/site-packages (from openai>=1.1.0->llama-index) (1.3.0)\n",
      "Requirement already satisfied: certifi in /opt/conda/lib/python3.11/site-packages (from httpx->llama-index) (2024.2.2)\n",
      "Collecting httpcore==1.* (from httpx->llama-index)\n",
      "  Using cached httpcore-1.0.2-py3-none-any.whl.metadata (20 kB)\n",
      "Requirement already satisfied: idna in /opt/conda/lib/python3.11/site-packages (from httpx->llama-index) (3.4)\n",
      "Collecting h11<0.15,>=0.13 (from httpcore==1.*->httpx->llama-index)\n",
      "  Using cached h11-0.14.0-py3-none-any.whl (58 kB)\n",
      "Requirement already satisfied: charset-normalizer<4,>=2 in /opt/conda/lib/python3.11/site-packages (from requests>=2.31.0->llama-index) (3.3.0)\n",
      "Requirement already satisfied: urllib3<3,>=1.21.1 in /opt/conda/lib/python3.11/site-packages (from requests>=2.31.0->llama-index) (2.0.7)\n",
      "Requirement already satisfied: greenlet!=0.4.17 in /opt/conda/lib/python3.11/site-packages (from SQLAlchemy>=1.4.49->SQLAlchemy[asyncio]>=1.4.49->llama-index) (3.0.0)\n",
      "Collecting mypy-extensions>=0.3.0 (from typing-inspect>=0.8.0->llama-index)\n",
      "  Using cached mypy_extensions-1.0.0-py3-none-any.whl (4.7 kB)\n",
      "Collecting marshmallow<4.0.0,>=3.18.0 (from dataclasses-json->llama-index)\n",
      "  Using cached marshmallow-3.20.2-py3-none-any.whl.metadata (7.5 kB)\n",
      "Requirement already satisfied: python-dateutil>=2.8.2 in /opt/conda/lib/python3.11/site-packages (from pandas->llama-index) (2.8.2)\n",
      "Requirement already satisfied: pytz>=2020.1 in /opt/conda/lib/python3.11/site-packages (from pandas->llama-index) (2023.3.post1)\n",
      "Requirement already satisfied: tzdata>=2022.1 in /opt/conda/lib/python3.11/site-packages (from pandas->llama-index) (2023.3)\n",
      "Requirement already satisfied: packaging>=17.0 in /opt/conda/lib/python3.11/site-packages (from marshmallow<4.0.0,>=3.18.0->dataclasses-json->llama-index) (23.2)\n",
      "Collecting annotated-types>=0.4.0 (from pydantic<3,>=1.9.0->openai>=1.1.0->llama-index)\n",
      "  Using cached annotated_types-0.6.0-py3-none-any.whl.metadata (12 kB)\n",
      "Collecting pydantic-core==2.16.2 (from pydantic<3,>=1.9.0->openai>=1.1.0->llama-index)\n",
      "  Using cached pydantic_core-2.16.2-cp311-cp311-manylinux_2_17_x86_64.manylinux2014_x86_64.whl.metadata (6.5 kB)\n",
      "Requirement already satisfied: six>=1.5 in /opt/conda/lib/python3.11/site-packages (from python-dateutil>=2.8.2->pandas->llama-index) (1.16.0)\n",
      "Downloading llama_index-0.9.46-py3-none-any.whl (15.9 MB)\n",
      "\u001b[2K   \u001b[90m━━━━━━━━━━━━━━━━━━━━━━━━━━━━━━━━━━━━━━━━\u001b[0m \u001b[32m15.9/15.9 MB\u001b[0m \u001b[31m83.0 MB/s\u001b[0m eta \u001b[36m0:00:00\u001b[0m:00:01\u001b[0m00:01\u001b[0m\n",
      "\u001b[?25hUsing cached aiohttp-3.9.3-cp311-cp311-manylinux_2_17_x86_64.manylinux2014_x86_64.whl (1.3 MB)\n",
      "Using cached Deprecated-1.2.14-py2.py3-none-any.whl (9.6 kB)\n",
      "Downloading openai-1.12.0-py3-none-any.whl (226 kB)\n",
      "\u001b[2K   \u001b[90m━━━━━━━━━━━━━━━━━━━━━━━━━━━━━━━━━━━━━━━━\u001b[0m \u001b[32m226.7/226.7 kB\u001b[0m \u001b[31m43.7 MB/s\u001b[0m eta \u001b[36m0:00:00\u001b[0m\n",
      "\u001b[?25hUsing cached httpx-0.26.0-py3-none-any.whl (75 kB)\n",
      "Using cached httpcore-1.0.2-py3-none-any.whl (76 kB)\n",
      "Using cached tenacity-8.2.3-py3-none-any.whl (24 kB)\n",
      "Downloading tiktoken-0.6.0-cp311-cp311-manylinux_2_17_x86_64.manylinux2014_x86_64.whl (1.8 MB)\n",
      "\u001b[2K   \u001b[90m━━━━━━━━━━━━━━━━━━━━━━━━━━━━━━━━━━━━━━━━\u001b[0m \u001b[32m1.8/1.8 MB\u001b[0m \u001b[31m147.9 MB/s\u001b[0m eta \u001b[36m0:00:00\u001b[0m\n",
      "\u001b[?25hUsing cached typing_inspect-0.9.0-py3-none-any.whl (8.8 kB)\n",
      "Using cached dataclasses_json-0.6.4-py3-none-any.whl (28 kB)\n",
      "Using cached distro-1.9.0-py3-none-any.whl (20 kB)\n",
      "Using cached frozenlist-1.4.1-cp311-cp311-manylinux_2_5_x86_64.manylinux1_x86_64.manylinux_2_17_x86_64.manylinux2014_x86_64.whl (272 kB)\n",
      "Using cached marshmallow-3.20.2-py3-none-any.whl (49 kB)\n",
      "Using cached multidict-6.0.5-cp311-cp311-manylinux_2_17_x86_64.manylinux2014_x86_64.whl (128 kB)\n",
      "Using cached pydantic-2.6.1-py3-none-any.whl (394 kB)\n",
      "Using cached pydantic_core-2.16.2-cp311-cp311-manylinux_2_17_x86_64.manylinux2014_x86_64.whl (2.2 MB)\n",
      "Using cached yarl-1.9.4-cp311-cp311-manylinux_2_17_x86_64.manylinux2014_x86_64.whl (328 kB)\n",
      "Using cached annotated_types-0.6.0-py3-none-any.whl (12 kB)\n",
      "Installing collected packages: dirtyjson, tenacity, pydantic-core, nltk, mypy-extensions, multidict, marshmallow, h11, frozenlist, distro, deprecated, annotated-types, yarl, typing-inspect, tiktoken, pydantic, httpcore, aiosignal, httpx, dataclasses-json, aiohttp, openai, llama-index\n",
      "Successfully installed aiohttp-3.9.3 aiosignal-1.3.1 annotated-types-0.6.0 dataclasses-json-0.6.4 deprecated-1.2.14 dirtyjson-1.0.8 distro-1.9.0 frozenlist-1.4.1 h11-0.14.0 httpcore-1.0.2 httpx-0.26.0 llama-index-0.9.46 marshmallow-3.20.2 multidict-6.0.5 mypy-extensions-1.0.0 nltk-3.8.1 openai-1.12.0 pydantic-2.6.1 pydantic-core-2.16.2 tenacity-8.2.3 tiktoken-0.6.0 typing-inspect-0.9.0 yarl-1.9.4\n",
      "Requirement already satisfied: huggingface_hub in /opt/conda/lib/python3.11/site-packages (0.20.3)\n",
      "Requirement already satisfied: filelock in /opt/conda/lib/python3.11/site-packages (from huggingface_hub) (3.13.1)\n",
      "Requirement already satisfied: fsspec>=2023.5.0 in /opt/conda/lib/python3.11/site-packages (from huggingface_hub) (2023.9.2)\n",
      "Requirement already satisfied: requests in /opt/conda/lib/python3.11/site-packages (from huggingface_hub) (2.31.0)\n",
      "Requirement already satisfied: tqdm>=4.42.1 in /opt/conda/lib/python3.11/site-packages (from huggingface_hub) (4.66.1)\n",
      "Requirement already satisfied: pyyaml>=5.1 in /opt/conda/lib/python3.11/site-packages (from huggingface_hub) (6.0.1)\n",
      "Requirement already satisfied: typing-extensions>=3.7.4.3 in /opt/conda/lib/python3.11/site-packages (from huggingface_hub) (4.8.0)\n",
      "Requirement already satisfied: packaging>=20.9 in /opt/conda/lib/python3.11/site-packages (from huggingface_hub) (23.2)\n",
      "Requirement already satisfied: charset-normalizer<4,>=2 in /opt/conda/lib/python3.11/site-packages (from requests->huggingface_hub) (3.3.0)\n",
      "Requirement already satisfied: idna<4,>=2.5 in /opt/conda/lib/python3.11/site-packages (from requests->huggingface_hub) (3.4)\n",
      "Requirement already satisfied: urllib3<3,>=1.21.1 in /opt/conda/lib/python3.11/site-packages (from requests->huggingface_hub) (2.0.7)\n",
      "Requirement already satisfied: certifi>=2017.4.17 in /opt/conda/lib/python3.11/site-packages (from requests->huggingface_hub) (2024.2.2)\n",
      "Collecting accelerate\n",
      "  Using cached accelerate-0.26.1-py3-none-any.whl.metadata (18 kB)\n",
      "Requirement already satisfied: numpy>=1.17 in /opt/conda/lib/python3.11/site-packages (from accelerate) (1.24.4)\n",
      "Requirement already satisfied: packaging>=20.0 in /opt/conda/lib/python3.11/site-packages (from accelerate) (23.2)\n",
      "Requirement already satisfied: psutil in /opt/conda/lib/python3.11/site-packages (from accelerate) (5.9.5)\n",
      "Requirement already satisfied: pyyaml in /opt/conda/lib/python3.11/site-packages (from accelerate) (6.0.1)\n",
      "Requirement already satisfied: torch>=1.10.0 in /opt/conda/lib/python3.11/site-packages (from accelerate) (2.2.0)\n",
      "Requirement already satisfied: huggingface-hub in /opt/conda/lib/python3.11/site-packages (from accelerate) (0.20.3)\n",
      "Requirement already satisfied: safetensors>=0.3.1 in /opt/conda/lib/python3.11/site-packages (from accelerate) (0.4.2)\n",
      "Requirement already satisfied: filelock in /opt/conda/lib/python3.11/site-packages (from torch>=1.10.0->accelerate) (3.13.1)\n",
      "Requirement already satisfied: typing-extensions>=4.8.0 in /opt/conda/lib/python3.11/site-packages (from torch>=1.10.0->accelerate) (4.8.0)\n",
      "Requirement already satisfied: sympy in /opt/conda/lib/python3.11/site-packages (from torch>=1.10.0->accelerate) (1.12)\n",
      "Requirement already satisfied: networkx in /opt/conda/lib/python3.11/site-packages (from torch>=1.10.0->accelerate) (3.2)\n",
      "Requirement already satisfied: jinja2 in /opt/conda/lib/python3.11/site-packages (from torch>=1.10.0->accelerate) (3.1.2)\n",
      "Requirement already satisfied: fsspec in /opt/conda/lib/python3.11/site-packages (from torch>=1.10.0->accelerate) (2023.9.2)\n",
      "Requirement already satisfied: nvidia-cuda-nvrtc-cu12==12.1.105 in /opt/conda/lib/python3.11/site-packages (from torch>=1.10.0->accelerate) (12.1.105)\n",
      "Requirement already satisfied: nvidia-cuda-runtime-cu12==12.1.105 in /opt/conda/lib/python3.11/site-packages (from torch>=1.10.0->accelerate) (12.1.105)\n",
      "Requirement already satisfied: nvidia-cuda-cupti-cu12==12.1.105 in /opt/conda/lib/python3.11/site-packages (from torch>=1.10.0->accelerate) (12.1.105)\n",
      "Requirement already satisfied: nvidia-cudnn-cu12==8.9.2.26 in /opt/conda/lib/python3.11/site-packages (from torch>=1.10.0->accelerate) (8.9.2.26)\n",
      "Requirement already satisfied: nvidia-cublas-cu12==12.1.3.1 in /opt/conda/lib/python3.11/site-packages (from torch>=1.10.0->accelerate) (12.1.3.1)\n",
      "Requirement already satisfied: nvidia-cufft-cu12==11.0.2.54 in /opt/conda/lib/python3.11/site-packages (from torch>=1.10.0->accelerate) (11.0.2.54)\n",
      "Requirement already satisfied: nvidia-curand-cu12==10.3.2.106 in /opt/conda/lib/python3.11/site-packages (from torch>=1.10.0->accelerate) (10.3.2.106)\n",
      "Requirement already satisfied: nvidia-cusolver-cu12==11.4.5.107 in /opt/conda/lib/python3.11/site-packages (from torch>=1.10.0->accelerate) (11.4.5.107)\n",
      "Requirement already satisfied: nvidia-cusparse-cu12==12.1.0.106 in /opt/conda/lib/python3.11/site-packages (from torch>=1.10.0->accelerate) (12.1.0.106)\n",
      "Requirement already satisfied: nvidia-nccl-cu12==2.19.3 in /opt/conda/lib/python3.11/site-packages (from torch>=1.10.0->accelerate) (2.19.3)\n",
      "Requirement already satisfied: nvidia-nvtx-cu12==12.1.105 in /opt/conda/lib/python3.11/site-packages (from torch>=1.10.0->accelerate) (12.1.105)\n",
      "Requirement already satisfied: triton==2.2.0 in /opt/conda/lib/python3.11/site-packages (from torch>=1.10.0->accelerate) (2.2.0)\n",
      "Requirement already satisfied: nvidia-nvjitlink-cu12 in /opt/conda/lib/python3.11/site-packages (from nvidia-cusolver-cu12==11.4.5.107->torch>=1.10.0->accelerate) (12.3.101)\n",
      "Requirement already satisfied: requests in /opt/conda/lib/python3.11/site-packages (from huggingface-hub->accelerate) (2.31.0)\n",
      "Requirement already satisfied: tqdm>=4.42.1 in /opt/conda/lib/python3.11/site-packages (from huggingface-hub->accelerate) (4.66.1)\n",
      "Requirement already satisfied: MarkupSafe>=2.0 in /opt/conda/lib/python3.11/site-packages (from jinja2->torch>=1.10.0->accelerate) (2.1.3)\n",
      "Requirement already satisfied: charset-normalizer<4,>=2 in /opt/conda/lib/python3.11/site-packages (from requests->huggingface-hub->accelerate) (3.3.0)\n",
      "Requirement already satisfied: idna<4,>=2.5 in /opt/conda/lib/python3.11/site-packages (from requests->huggingface-hub->accelerate) (3.4)\n",
      "Requirement already satisfied: urllib3<3,>=1.21.1 in /opt/conda/lib/python3.11/site-packages (from requests->huggingface-hub->accelerate) (2.0.7)\n",
      "Requirement already satisfied: certifi>=2017.4.17 in /opt/conda/lib/python3.11/site-packages (from requests->huggingface-hub->accelerate) (2024.2.2)\n",
      "Requirement already satisfied: mpmath>=0.19 in /opt/conda/lib/python3.11/site-packages (from sympy->torch>=1.10.0->accelerate) (1.3.0)\n",
      "Using cached accelerate-0.26.1-py3-none-any.whl (270 kB)\n",
      "Installing collected packages: accelerate\n",
      "Successfully installed accelerate-0.26.1\n",
      "Collecting pypdf\n",
      "  Using cached pypdf-4.0.1-py3-none-any.whl.metadata (7.4 kB)\n",
      "Using cached pypdf-4.0.1-py3-none-any.whl (283 kB)\n",
      "Installing collected packages: pypdf\n",
      "Successfully installed pypdf-4.0.1\n"
     ]
    }
   ],
   "source": [
    "!pip install transformers\n",
    "!pip install torch\n",
    "\n",
    "#https://huggingface.co/meta-llama/Llama-2-7b-chat-hf\n",
    "#https://gpt-index.readthedocs.io/en/latest/getting_started/reading.html\n",
    "!pip install llama-index\n",
    "!pip install huggingface_hub\n",
    "!pip install accelerate\n",
    "!pip install pypdf"
   ]
  },
  {
   "cell_type": "markdown",
   "id": "d95606f6-3cbc-44cd-b011-d4709937ca77",
   "metadata": {},
   "source": [
    "# Import packages"
   ]
  },
  {
   "cell_type": "code",
   "execution_count": 5,
   "id": "9b77014c-ff91-4356-8b6d-e61e031d50fd",
   "metadata": {},
   "outputs": [],
   "source": [
    "import torch\n",
    "from llama_index.prompts import PromptTemplate\n",
    "from llama_index import ServiceContext\n",
    "from llama_index.llms import HuggingFaceLLM\n",
    "from llama_index.embeddings import HuggingFaceEmbedding\n",
    "from llama_index.chat_engine import SimpleChatEngine\n",
    "#For RAG\n",
    "from llama_index import VectorStoreIndex, SimpleDirectoryReader\n",
    "\n",
    "import accelerate\n",
    "from huggingface_hub.hf_api import HfFolder"
   ]
  },
  {
   "cell_type": "markdown",
   "id": "6faee89a-af16-4831-869c-da07b68831be",
   "metadata": {},
   "source": [
    "# Set up the Llama2 model"
   ]
  },
  {
   "cell_type": "code",
   "execution_count": 6,
   "id": "eadfe275-1eaf-4875-bef3-bc606649005f",
   "metadata": {},
   "outputs": [],
   "source": [
    "#Save your huggingface token to use the Llama2 model\n",
    "#It is required to apply to access the model -> https://huggingface.co/meta-llama/Llama-2-7b-chat-hf\n",
    "HfFolder.save_token(hf_token)"
   ]
  },
  {
   "cell_type": "code",
   "execution_count": 7,
   "id": "603bfd17-5c9b-4c76-8992-71e9c2bc2fe8",
   "metadata": {},
   "outputs": [],
   "source": [
    "SYSTEM_PROMPT = \"\"\"You are an answer bot that answers questions based on the given input. \n",
    "Here are some rules you always follow:\n",
    "- Generate human readable output, avoid creating output with gibberish text.\n",
    "- Generate only the requested output, don't include any other language before or after the requested output.\n",
    "- Answer to the point and keep it short.\n",
    "- Do not guess. \n",
    "\"\"\""
   ]
  },
  {
   "cell_type": "code",
   "execution_count": 8,
   "id": "4530507f-2bf1-4a9f-8860-d064195f37d1",
   "metadata": {},
   "outputs": [],
   "source": [
    "query_wrapper_prompt = PromptTemplate(\n",
    "    \"[INST]<<SYS>>\\n\" + SYSTEM_PROMPT + \"<</SYS>>\\n\\n{query_str}[/INST] \"\n",
    ")"
   ]
  },
  {
   "cell_type": "code",
   "execution_count": 9,
   "id": "2af0ba83-c40f-4c89-9bf6-fe39a561bb73",
   "metadata": {},
   "outputs": [
    {
     "data": {
      "application/vnd.jupyter.widget-view+json": {
       "model_id": "02554ad0187b48249f1f8fb780230227",
       "version_major": 2,
       "version_minor": 0
      },
      "text/plain": [
       "Loading checkpoint shards:   0%|          | 0/2 [00:00<?, ?it/s]"
      ]
     },
     "metadata": {},
     "output_type": "display_data"
    }
   ],
   "source": [
    "model = HuggingFaceLLM(\n",
    "    context_window=4096,\n",
    "    max_new_tokens=1000,\n",
    "    generate_kwargs={#\"temperature\": 0.3, \n",
    "        \"do_sample\": False},\n",
    "    system_prompt=SYSTEM_PROMPT,\n",
    "    query_wrapper_prompt=query_wrapper_prompt,\n",
    "    tokenizer_name=\"meta-llama/Llama-2-7b-chat-hf\",\n",
    "    model_name=\"meta-llama/Llama-2-7b-chat-hf\",\n",
    "    device_map=\"auto\",\n",
    "    #stopping_ids=[50278, 50279, 50277, 1, 0],\n",
    "    tokenizer_kwargs={\"max_length\": 4096},\n",
    "    # uncomment this if using CUDA to reduce memory usage\n",
    "    #model_kwargs={\"torch_dtype\": torch.float16}\n",
    ")"
   ]
  },
  {
   "cell_type": "code",
   "execution_count": 10,
   "id": "ead90221-a2e6-46fa-a5e5-3aff4e2b3f72",
   "metadata": {},
   "outputs": [
    {
     "data": {
      "application/vnd.jupyter.widget-view+json": {
       "model_id": "59bbc8f78d494bcb92b54a3201a08c51",
       "version_major": 2,
       "version_minor": 0
      },
      "text/plain": [
       "config.json:   0%|          | 0.00/743 [00:00<?, ?B/s]"
      ]
     },
     "metadata": {},
     "output_type": "display_data"
    },
    {
     "data": {
      "application/vnd.jupyter.widget-view+json": {
       "model_id": "4e68ff3045f14fd59acdf79cce567b45",
       "version_major": 2,
       "version_minor": 0
      },
      "text/plain": [
       "model.safetensors:   0%|          | 0.00/133M [00:00<?, ?B/s]"
      ]
     },
     "metadata": {},
     "output_type": "display_data"
    },
    {
     "data": {
      "application/vnd.jupyter.widget-view+json": {
       "model_id": "8f68f7fd6152402a884e7f81aa840403",
       "version_major": 2,
       "version_minor": 0
      },
      "text/plain": [
       "tokenizer_config.json:   0%|          | 0.00/366 [00:00<?, ?B/s]"
      ]
     },
     "metadata": {},
     "output_type": "display_data"
    },
    {
     "data": {
      "application/vnd.jupyter.widget-view+json": {
       "model_id": "9307ce763d794b41a9af527ffde9dc6b",
       "version_major": 2,
       "version_minor": 0
      },
      "text/plain": [
       "vocab.txt:   0%|          | 0.00/232k [00:00<?, ?B/s]"
      ]
     },
     "metadata": {},
     "output_type": "display_data"
    },
    {
     "data": {
      "application/vnd.jupyter.widget-view+json": {
       "model_id": "9f2b09e265324e389796210679ecb1c5",
       "version_major": 2,
       "version_minor": 0
      },
      "text/plain": [
       "tokenizer.json:   0%|          | 0.00/711k [00:00<?, ?B/s]"
      ]
     },
     "metadata": {},
     "output_type": "display_data"
    },
    {
     "data": {
      "application/vnd.jupyter.widget-view+json": {
       "model_id": "81f2c55443d0488a970de73815edce87",
       "version_major": 2,
       "version_minor": 0
      },
      "text/plain": [
       "special_tokens_map.json:   0%|          | 0.00/125 [00:00<?, ?B/s]"
      ]
     },
     "metadata": {},
     "output_type": "display_data"
    }
   ],
   "source": [
    "#Select embeddings to use\n",
    "#https://huggingface.co/BAAI/bge-small-en-v1.5\n",
    "embed_model = HuggingFaceEmbedding(model_name=\"BAAI/bge-small-en-v1.5\")"
   ]
  },
  {
   "cell_type": "code",
   "execution_count": 11,
   "id": "9ab30051-3f31-433c-b07e-9b5eff7f35b6",
   "metadata": {},
   "outputs": [],
   "source": [
    "#Set service context\n",
    "service_context = ServiceContext.from_defaults(\n",
    "    chunk_size=1024,\n",
    "    llm=model,\n",
    "    embed_model=embed_model\n",
    ")"
   ]
  },
  {
   "cell_type": "markdown",
   "id": "9db05c63-2a23-4302-b663-455c26cb9278",
   "metadata": {},
   "source": [
    "# Define documents used for RAG and create an index"
   ]
  },
  {
   "cell_type": "code",
   "execution_count": 12,
   "id": "00c4211d-e003-4a0e-9237-5afb88ab08be",
   "metadata": {},
   "outputs": [],
   "source": [
    "#Place documents used for RAG into a folder\n",
    "#In this case, there are 2 pdf documents in \"Testdocs\" folder in root\n",
    "documents = SimpleDirectoryReader(\"Testdocs\").load_data()"
   ]
  },
  {
   "cell_type": "code",
   "execution_count": 13,
   "id": "ca586ffe-6a8b-4042-9fb0-cc2d20bc58ab",
   "metadata": {},
   "outputs": [],
   "source": [
    "#NOTE: The same service_context is used from the previous section\n",
    "index = VectorStoreIndex.from_documents(\n",
    "    documents, service_context=service_context\n",
    ")"
   ]
  },
  {
   "cell_type": "markdown",
   "id": "2c2b3faa-d4bd-4927-ba41-b1acf9cacd8a",
   "metadata": {},
   "source": [
    "# Use the query engine to get answers based on provided documents"
   ]
  },
  {
   "cell_type": "code",
   "execution_count": 14,
   "id": "868da937-b9cc-4bdb-8597-fb169effbb9a",
   "metadata": {},
   "outputs": [
    {
     "name": "stderr",
     "output_type": "stream",
     "text": [
      "/opt/conda/lib/python3.11/site-packages/transformers/generation/configuration_utils.py:392: UserWarning: `do_sample` is set to `False`. However, `temperature` is set to `0.6` -- this flag is only used in sample-based generation modes. You should set `do_sample=True` or unset `temperature`.\n",
      "  warnings.warn(\n",
      "/opt/conda/lib/python3.11/site-packages/transformers/generation/configuration_utils.py:397: UserWarning: `do_sample` is set to `False`. However, `top_p` is set to `0.9` -- this flag is only used in sample-based generation modes. You should set `do_sample=True` or unset `top_p`.\n",
      "  warnings.warn(\n"
     ]
    }
   ],
   "source": [
    "query_engine = index.as_query_engine()\n",
    "RAG_response = query_engine.query(\"What is SAS Visual Text Analytics?\")"
   ]
  },
  {
   "cell_type": "code",
   "execution_count": 15,
   "id": "8900ca57-4ecf-47f2-be34-ef70783d33bb",
   "metadata": {},
   "outputs": [
    {
     "data": {
      "text/plain": [
       "Response(response='Based on the given context information, SAS Visual Text Analytics is a web-based text analytics application that uses context to provide a comprehensive solution to the challenge of identifying and categorizing key textual data. It is a part of SAS Viya and combines the visual programming flow of SAS Text Miner with the rules-based linguistic methods of categorization and concept extraction in SAS Contextual Analysis. The application allows users to identify key textual data in their document collections, build concept and categorization models, and remove meaningless textual data.', source_nodes=[NodeWithScore(node=TextNode(id_='62b548cc-3620-41f5-b2bd-cc98e29a335e', embedding=None, metadata={'page_label': '5', 'file_name': 'sasvta84.pdf', 'file_path': 'Testdocs/sasvta84.pdf', 'file_type': 'application/pdf', 'file_size': 2210066, 'creation_date': '2023-11-13', 'last_modified_date': '2023-11-13', 'last_accessed_date': '2024-02-08'}, excluded_embed_metadata_keys=['file_name', 'file_type', 'file_size', 'creation_date', 'last_modified_date', 'last_accessed_date'], excluded_llm_metadata_keys=['file_name', 'file_type', 'file_size', 'creation_date', 'last_modified_date', 'last_accessed_date'], relationships={<NodeRelationship.SOURCE: '1'>: RelatedNodeInfo(node_id='a9299459-2283-4ecf-9c6f-5754ef37fdc2', node_type=<ObjectType.DOCUMENT: '4'>, metadata={'page_label': '5', 'file_name': 'sasvta84.pdf', 'file_path': 'Testdocs/sasvta84.pdf', 'file_type': 'application/pdf', 'file_size': 2210066, 'creation_date': '2023-11-13', 'last_modified_date': '2023-11-13', 'last_accessed_date': '2024-02-08'}, hash='5571034caf1c07d3845aaaf2aa3928dd9dc9e12e726e71c790e8768673e8f25a'), <NodeRelationship.PREVIOUS: '2'>: RelatedNodeInfo(node_id='89eead64-49a4-4a94-890f-da83a4faec08', node_type=<ObjectType.TEXT: '1'>, metadata={'page_label': '5', 'file_name': 'sasvta84.pdf', 'file_path': 'Testdocs/sasvta84.pdf', 'file_type': 'application/pdf', 'file_size': 2210066, 'creation_date': '2023-11-13', 'last_modified_date': '2023-11-13', 'last_accessed_date': '2024-02-08'}, hash='a777e16016b2eeb9ddd5a21a4990fe3e33981489bbf42100fa14bb2f12e50811'), <NodeRelationship.NEXT: '3'>: RelatedNodeInfo(node_id='4d45e150-31ca-4ec4-87f0-e90c7273de33', node_type=<ObjectType.TEXT: '1'>, metadata={}, hash='3b60e0d838fad8e92c267bace561bae64763202eb4b0064f2cbc1ea1b7aded4e')}, text='. . . . . . . . . . . . . . . . . . . . . . . . . . . . . . . . . . . . . . . . . . . . 11\\nSAS Visual Text Analytics 8.4 Supported Languages  . . . . . . . . . . . . . . . . . . . . . . . . . . . . . . . . . . . . . . . . . . 11\\nWhat Is SAS Visual Text Analytics in SAS Viya?\\nOverview\\nSAS Visual Text Analytics  in SAS Viya is a web-based text analytics application that uses context to provide a \\ncomprehensive solution to the challenge of identifying and categorizing key textual data. In SAS Visual Text \\nAnalytics , you can use the following analysis nodes to build and automate models (based on training \\ndocuments):\\nnConcepts\\nnText Parsing\\nnSentiment\\nnTopics\\nnCategories\\nYou can then customize your models in order to realize the value of your text-based data.\\nNote: Internet Explorer 11 is not supported for SAS Visual Text Analytics 8.4 .\\nSAS Visual Text Analytics  in SAS Viya combines the visual programming flow of SAS Text Miner  with the rules-\\nbased linguistic methods of categorization and concept extraction in SAS Contextual Analysis . These \\ncapabilities, along with document-level scoring for each component, are combined in a single user interface.\\nUsing SAS Visual Text Analytics  in SAS Viya, you can identify key textual data in your document collections, \\nbuild concept and categorization models, and remove meaningless textual data.5', start_char_idx=1820, end_char_idx=3178, text_template='{metadata_str}\\n\\n{content}', metadata_template='{key}: {value}', metadata_seperator='\\n'), score=0.8853345479345209), NodeWithScore(node=TextNode(id_='b111842f-d4a3-4c78-9480-696888f9eef8', embedding=None, metadata={'page_label': '5', 'file_name': 'sasvta84.pdf', 'file_path': 'Testdocs/sasvta84.pdf', 'file_type': 'application/pdf', 'file_size': 2210066, 'creation_date': '2023-11-13', 'last_modified_date': '2023-11-13', 'last_accessed_date': '2024-02-08'}, excluded_embed_metadata_keys=['file_name', 'file_type', 'file_size', 'creation_date', 'last_modified_date', 'last_accessed_date'], excluded_llm_metadata_keys=['file_name', 'file_type', 'file_size', 'creation_date', 'last_modified_date', 'last_accessed_date'], relationships={<NodeRelationship.SOURCE: '1'>: RelatedNodeInfo(node_id='a9299459-2283-4ecf-9c6f-5754ef37fdc2', node_type=<ObjectType.DOCUMENT: '4'>, metadata={'page_label': '5', 'file_name': 'sasvta84.pdf', 'file_path': 'Testdocs/sasvta84.pdf', 'file_type': 'application/pdf', 'file_size': 2210066, 'creation_date': '2023-11-13', 'last_modified_date': '2023-11-13', 'last_accessed_date': '2024-02-08'}, hash='5571034caf1c07d3845aaaf2aa3928dd9dc9e12e726e71c790e8768673e8f25a'), <NodeRelationship.PREVIOUS: '2'>: RelatedNodeInfo(node_id='6c2dc527-3d58-4f27-a1e7-eab667b53eeb', node_type=<ObjectType.TEXT: '1'>, metadata={'page_label': '4', 'file_name': 'sasvta84.pdf', 'file_path': 'Testdocs/sasvta84.pdf', 'file_type': 'application/pdf', 'file_size': 2210066, 'creation_date': '2023-11-13', 'last_modified_date': '2023-11-13', 'last_accessed_date': '2024-02-08'}, hash='5f43002464253594bbf116b83b261490dc90589fc9bef4351cb7ca922f7a5676'), <NodeRelationship.NEXT: '3'>: RelatedNodeInfo(node_id='89eead64-49a4-4a94-890f-da83a4faec08', node_type=<ObjectType.TEXT: '1'>, metadata={}, hash='6be33ea0593ccf3b6b13d899a1f227004bd89ec455645d5732a5c7fa5eb524ae')}, text='3\\nIntroduction to SAS Visual Text Analytics \\non Viya\\nWhat Is SAS Visual Text Analytics in SAS Viya?  . . . . . . . . . . . . . . . . . . . . . . . . . . . . . . . . . . . . . . . . . . . . . . . . 5\\nOverview  . . . . . . . . . . . . . . . . . . . . . . . . . . . . . . . . . . . . . . . . . . . . . . . . . . . . . . . . . . . . . . . . . . . . . . . . . . . . . . . . . . . . 5\\nVisual Text Analytics Basics  . . . . . . . . . . . . . . . . . . . . . . . . . . . . . . . . . . . . . . . . . . . . . . . . . . . . . . . . . . . . . . . . . . 6\\nConcepts  . . . . . . . . . . . . . . . . . . . . . . . . . . . . . . . . . . . . . . . . . . . . . . . . . . . . . . . . . . . . . . . . . . . . . . . . . . . . . . . . . . . . 6\\nText Parsing — Terms and Synonyms  . . . . . . . . . . . . . . . . . . . . . . . . . . . . . . . . . . . . . . . . . . . . . . . . . . . . . . . . . 7\\nStart Lists and Stop Lists  . . . . . . . . . . . . . . . . . . . . . . . . . . . . . . . . . . . . . . . . . . . . . . . . . . . . . . . . . . . . . . . . . . . . . 8\\nTopics  . . . . . . . . . . . . . . . . . . . . . . . . . . . . . . . . . . . . . . . . . . . . . . . . . . . . . . . . . . . . . . . .', start_char_idx=0, end_char_idx=1177, text_template='{metadata_str}\\n\\n{content}', metadata_template='{key}: {value}', metadata_seperator='\\n'), score=0.8186227678593906)], metadata={'62b548cc-3620-41f5-b2bd-cc98e29a335e': {'page_label': '5', 'file_name': 'sasvta84.pdf', 'file_path': 'Testdocs/sasvta84.pdf', 'file_type': 'application/pdf', 'file_size': 2210066, 'creation_date': '2023-11-13', 'last_modified_date': '2023-11-13', 'last_accessed_date': '2024-02-08'}, 'b111842f-d4a3-4c78-9480-696888f9eef8': {'page_label': '5', 'file_name': 'sasvta84.pdf', 'file_path': 'Testdocs/sasvta84.pdf', 'file_type': 'application/pdf', 'file_size': 2210066, 'creation_date': '2023-11-13', 'last_modified_date': '2023-11-13', 'last_accessed_date': '2024-02-08'}})"
      ]
     },
     "execution_count": 15,
     "metadata": {},
     "output_type": "execute_result"
    }
   ],
   "source": [
    "RAG_response"
   ]
  },
  {
   "cell_type": "code",
   "execution_count": 12,
   "id": "e24ca789-3dc4-454e-a23d-3b3458f11b58",
   "metadata": {},
   "outputs": [
    {
     "name": "stderr",
     "output_type": "stream",
     "text": [
      "/opt/conda/lib/python3.11/site-packages/transformers/generation/configuration_utils.py:392: UserWarning: `do_sample` is set to `False`. However, `temperature` is set to `0.6` -- this flag is only used in sample-based generation modes. You should set `do_sample=True` or unset `temperature`.\n",
      "  warnings.warn(\n",
      "/opt/conda/lib/python3.11/site-packages/transformers/generation/configuration_utils.py:397: UserWarning: `do_sample` is set to `False`. However, `top_p` is set to `0.9` -- this flag is only used in sample-based generation modes. You should set `do_sample=True` or unset `top_p`.\n",
      "  warnings.warn(\n"
     ]
    }
   ],
   "source": [
    "RAG_response2 = query_engine.query(\"What languages are supported?\")"
   ]
  },
  {
   "cell_type": "code",
   "execution_count": 13,
   "id": "62de7d00-61cb-4631-9656-51da181e1759",
   "metadata": {},
   "outputs": [
    {
     "data": {
      "text/plain": [
       "Response(response='Sure, I\\'d be happy to help! Based on the context information provided, the answer to the query \"What languages are supported?\" is:\\n\\nSAS Visual Text Analytics 8.4 supports the following languages:\\n\\n1. Arabic\\n2. Chinese (Simplified and Traditional)\\n3. Croatian\\n4. Czech\\n5. Danish\\n6. Dutch\\n7. English\\n8. Farsi\\n9. Finnish\\n10. French\\n11. German\\n12. Greek\\n13. Hebrew\\n14. Hindi\\n15. Hungarian\\n16. Indonesian\\n17. Italian\\n18. Japanese\\n19. Kazakh\\n20. Korean\\n21. Norwegian (Bokmal and Nynorsk)\\n22. Polish\\n23. Portuguese\\n24. Romanian\\n25. Russian\\n26. Slovak\\n27. Slovene\\n28. Spanish\\n29. Swedish\\n30. Tagalog\\n31. Thai\\n32. Turkish\\n33. Vietnamese\\n\\nI hope this helps! Let me know if you have any other questions.', source_nodes=[NodeWithScore(node=TextNode(id_='9e7817bb-d77a-4211-8d2b-2a6c15709b57', embedding=None, metadata={'page_label': '11', 'file_name': 'sasvta84.pdf', 'file_path': 'Testdocs/sasvta84.pdf', 'file_type': 'application/pdf', 'file_size': 2210066, 'creation_date': '2023-11-13', 'last_modified_date': '2023-11-13', 'last_accessed_date': '2024-02-06'}, excluded_embed_metadata_keys=['file_name', 'file_type', 'file_size', 'creation_date', 'last_modified_date', 'last_accessed_date'], excluded_llm_metadata_keys=['file_name', 'file_type', 'file_size', 'creation_date', 'last_modified_date', 'last_accessed_date'], relationships={<NodeRelationship.SOURCE: '1'>: RelatedNodeInfo(node_id='803d14aa-30f1-4a04-b217-89b6ac2c724b', node_type=<ObjectType.DOCUMENT: '4'>, metadata={'page_label': '11', 'file_name': 'sasvta84.pdf', 'file_path': 'Testdocs/sasvta84.pdf', 'file_type': 'application/pdf', 'file_size': 2210066, 'creation_date': '2023-11-13', 'last_modified_date': '2023-11-13', 'last_accessed_date': '2024-02-06'}, hash='cef027b338aade027d96a8d4b134403f2d2081bb43972432002a2796c45ed31a'), <NodeRelationship.PREVIOUS: '2'>: RelatedNodeInfo(node_id='058ecc3b-b1f6-46e7-a701-ff92273f6c69', node_type=<ObjectType.TEXT: '1'>, metadata={'page_label': '10', 'file_name': 'sasvta84.pdf', 'file_path': 'Testdocs/sasvta84.pdf', 'file_type': 'application/pdf', 'file_size': 2210066, 'creation_date': '2023-11-13', 'last_modified_date': '2023-11-13', 'last_accessed_date': '2024-02-06'}, hash='def2e4399a95376514afc9d1b37215d4fd99feaa7acc6c9ebc5daa61233b848b'), <NodeRelationship.NEXT: '3'>: RelatedNodeInfo(node_id='3b2c0bed-2b66-4a7b-9e1a-ff46813d90c7', node_type=<ObjectType.TEXT: '1'>, metadata={}, hash='3bed8822aaf10e509816e859cd7bfea61ee790d78abfaf152556188528389638')}, hash='cef027b338aade027d96a8d4b134403f2d2081bb43972432002a2796c45ed31a', text='page 40. Each category node in the tree is a container for a single rule. By contrast, under a concept node, \\nthere can exist multiple rules.\\nSupported Languages\\nSAS Visual Text Analytics 8.4  supports the following languages. To license additional languages, See your SAS \\nsales representative.\\nTable 3.2 SAS Visual Text Analytics 8.4 Supported Languages\\nArabic\\nChinese (Simp./Trad.)\\nCroatian\\nCzech\\nDanish\\nDutch\\nEnglish\\nFarsi\\nFinnish\\nFrench\\nGerman\\nGreek\\nHebrew\\nHindi\\nHungarian\\nIndonesian\\nItalian\\nJapanese\\nKazakh\\nKorean\\nNorwegian (Bok./Nyn.)Supported Languages 11', start_char_idx=0, end_char_idx=563, text_template='{metadata_str}\\n\\n{content}', metadata_template='{key}: {value}', metadata_seperator='\\n'), score=0.7283031705713542), NodeWithScore(node=TextNode(id_='3b2c0bed-2b66-4a7b-9e1a-ff46813d90c7', embedding=None, metadata={'page_label': '12', 'file_name': 'sasvta84.pdf', 'file_path': 'Testdocs/sasvta84.pdf', 'file_type': 'application/pdf', 'file_size': 2210066, 'creation_date': '2023-11-13', 'last_modified_date': '2023-11-13', 'last_accessed_date': '2024-02-06'}, excluded_embed_metadata_keys=['file_name', 'file_type', 'file_size', 'creation_date', 'last_modified_date', 'last_accessed_date'], excluded_llm_metadata_keys=['file_name', 'file_type', 'file_size', 'creation_date', 'last_modified_date', 'last_accessed_date'], relationships={<NodeRelationship.SOURCE: '1'>: RelatedNodeInfo(node_id='2df9bdff-f86f-4641-93b7-41fb87afa5c9', node_type=<ObjectType.DOCUMENT: '4'>, metadata={'page_label': '12', 'file_name': 'sasvta84.pdf', 'file_path': 'Testdocs/sasvta84.pdf', 'file_type': 'application/pdf', 'file_size': 2210066, 'creation_date': '2023-11-13', 'last_modified_date': '2023-11-13', 'last_accessed_date': '2024-02-06'}, hash='5769b1d33edf6c7682f924e68b42891595d23579bf17c17b0c956f0cbf3bfb2f'), <NodeRelationship.PREVIOUS: '2'>: RelatedNodeInfo(node_id='9e7817bb-d77a-4211-8d2b-2a6c15709b57', node_type=<ObjectType.TEXT: '1'>, metadata={'page_label': '11', 'file_name': 'sasvta84.pdf', 'file_path': 'Testdocs/sasvta84.pdf', 'file_type': 'application/pdf', 'file_size': 2210066, 'creation_date': '2023-11-13', 'last_modified_date': '2023-11-13', 'last_accessed_date': '2024-02-06'}, hash='cbf1f9b283714c5b9702daf70a474d2b19bbdd09b9d953d25983c54446a12bfe'), <NodeRelationship.NEXT: '3'>: RelatedNodeInfo(node_id='86b23b71-6e95-43cc-bbfa-00551588ad6d', node_type=<ObjectType.TEXT: '1'>, metadata={}, hash='623d9ae2d9e33292d046532167506ae6598404ac9aa7c03a9b2f0768d555ef0f')}, hash='5769b1d33edf6c7682f924e68b42891595d23579bf17c17b0c956f0cbf3bfb2f', text='Polish\\nPortuguese\\nRomanian\\nRussian\\nSlovak\\nSlovene\\nSpanish\\nSwedish\\nTagalog\\nThai\\nTurkish\\nVietnamese12Chapter 3 / Introduction to SAS Visual Text Analytics on Viya', start_char_idx=0, end_char_idx=160, text_template='{metadata_str}\\n\\n{content}', metadata_template='{key}: {value}', metadata_seperator='\\n'), score=0.6946742153995031)], metadata={'9e7817bb-d77a-4211-8d2b-2a6c15709b57': {'page_label': '11', 'file_name': 'sasvta84.pdf', 'file_path': 'Testdocs/sasvta84.pdf', 'file_type': 'application/pdf', 'file_size': 2210066, 'creation_date': '2023-11-13', 'last_modified_date': '2023-11-13', 'last_accessed_date': '2024-02-06'}, '3b2c0bed-2b66-4a7b-9e1a-ff46813d90c7': {'page_label': '12', 'file_name': 'sasvta84.pdf', 'file_path': 'Testdocs/sasvta84.pdf', 'file_type': 'application/pdf', 'file_size': 2210066, 'creation_date': '2023-11-13', 'last_modified_date': '2023-11-13', 'last_accessed_date': '2024-02-06'}})"
      ]
     },
     "execution_count": 13,
     "metadata": {},
     "output_type": "execute_result"
    }
   ],
   "source": [
    "RAG_response2"
   ]
  },
  {
   "cell_type": "code",
   "execution_count": null,
   "id": "3475b8cd-2ec5-43df-af5f-9a20aeb1156f",
   "metadata": {},
   "outputs": [],
   "source": []
  }
 ],
 "metadata": {
  "kernelspec": {
   "display_name": "Python 3 (ipykernel)",
   "language": "python",
   "name": "python3"
  },
  "language_info": {
   "codemirror_mode": {
    "name": "ipython",
    "version": 3
   },
   "file_extension": ".py",
   "mimetype": "text/x-python",
   "name": "python",
   "nbconvert_exporter": "python",
   "pygments_lexer": "ipython3",
   "version": "3.11.6"
  }
 },
 "nbformat": 4,
 "nbformat_minor": 5
}
